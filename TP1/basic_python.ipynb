{
  "nbformat": 4,
  "nbformat_minor": 0,
  "metadata": {
    "colab": {
      "provenance": [],
      "authorship_tag": "ABX9TyMIwsQu8oAorTf5ziDQ0h+r",
      "include_colab_link": true
    },
    "kernelspec": {
      "name": "python3",
      "display_name": "Python 3"
    },
    "language_info": {
      "name": "python"
    }
  },
  "cells": [
    {
      "cell_type": "markdown",
      "metadata": {
        "id": "view-in-github",
        "colab_type": "text"
      },
      "source": [
        "<a href=\"https://colab.research.google.com/github/Alexk4303/Trabajos-POO/blob/main/TP1/basic_python.ipynb\" target=\"_parent\"><img src=\"https://colab.research.google.com/assets/colab-badge.svg\" alt=\"Open In Colab\"/></a>"
      ]
    },
    {
      "cell_type": "code",
      "source": [
        "# Comentario\n",
        "x= \"Omar ALEJANDRO\"\n",
        "print(\"hello world\", x, \"más texto\")\n",
        "print(type(x))\n"
      ],
      "metadata": {
        "colab": {
          "base_uri": "https://localhost:8080/"
        },
        "id": "GzrD9zFrhJ7D",
        "outputId": "3a66fcd6-4f9f-4c24-c245-ddb1fa17fe81"
      },
      "execution_count": null,
      "outputs": [
        {
          "output_type": "stream",
          "name": "stdout",
          "text": [
            "hello world Omar ALEJANDRO más texto\n",
            "<class 'str'>\n"
          ]
        }
      ]
    },
    {
      "cell_type": "code",
      "source": [
        "# Castig\n",
        "q=1\n",
        "#w=float(q)\n",
        "#w=str(q)\n",
        "w=bool(q)\n",
        "print(w)\n",
        "print(type(w))"
      ],
      "metadata": {
        "colab": {
          "base_uri": "https://localhost:8080/"
        },
        "id": "XQealFFoi1vb",
        "outputId": "9a53a783-4a4d-4205-ef42-e3a382f72c16"
      },
      "execution_count": null,
      "outputs": [
        {
          "output_type": "stream",
          "name": "stdout",
          "text": [
            "True\n",
            "<class 'bool'>\n"
          ]
        }
      ]
    },
    {
      "cell_type": "code",
      "source": [
        "q=input(\"Esribe tu nombre\")\n",
        "print(\"Tu eres\", q)"
      ],
      "metadata": {
        "colab": {
          "base_uri": "https://localhost:8080/"
        },
        "id": "c2ZGEqEnjp_6",
        "outputId": "ae4046e2-6ad3-455c-b0a7-ea420a6717ba"
      },
      "execution_count": null,
      "outputs": [
        {
          "output_type": "stream",
          "name": "stdout",
          "text": [
            "Esribe tu nombreOmar Alejandro\n",
            "Tu eres Omar Alejandro\n"
          ]
        }
      ]
    },
    {
      "cell_type": "code",
      "source": [
        "q=input(\"Escribe tu calificacion de programacion orientada a objetos 2024 b \")\n",
        "w=float(q)\n",
        "print(\"Tu calificacion es\", w+10)"
      ],
      "metadata": {
        "colab": {
          "base_uri": "https://localhost:8080/"
        },
        "id": "HgYt6BQXkDUM",
        "outputId": "79025a32-0150-45f1-dd42-a5af9413e442"
      },
      "execution_count": null,
      "outputs": [
        {
          "output_type": "stream",
          "name": "stdout",
          "text": [
            "Escribe tu calificacion de programacion orientada a objetos 2024 b 56\n",
            "Tu calificacion es 66.0\n"
          ]
        }
      ]
    },
    {
      "cell_type": "code",
      "source": [
        "#Operadores matematicos\n",
        "# + - * / // ** % abs()\n",
        "x= 55.25\n",
        "print(x+1)\n",
        "print(x-1)\n",
        "print(x*1)\n",
        "print(x/1)\n",
        "print(x//1)\n",
        "print(x**1)\n",
        "print(x%1)\n",
        "print(abs(x))"
      ],
      "metadata": {
        "colab": {
          "base_uri": "https://localhost:8080/"
        },
        "id": "2zyta6oyk1-T",
        "outputId": "32723069-156c-4e5f-9c29-a872aef75a84"
      },
      "execution_count": null,
      "outputs": [
        {
          "output_type": "stream",
          "name": "stdout",
          "text": [
            "56.25\n",
            "54.25\n",
            "55.25\n",
            "55.25\n",
            "55.0\n",
            "55.25\n",
            "0.25\n",
            "55.25\n"
          ]
        }
      ]
    },
    {
      "cell_type": "code",
      "source": [
        "import math as mt\n",
        "q=mt.sqrt(2)\n",
        "\n",
        "print(q)"
      ],
      "metadata": {
        "colab": {
          "base_uri": "https://localhost:8080/"
        },
        "id": "YUQFT9l8magL",
        "outputId": "ed3277bf-5601-485a-b683-ce647a487fff"
      },
      "execution_count": null,
      "outputs": [
        {
          "output_type": "stream",
          "name": "stdout",
          "text": [
            "1.4142135623730951\n"
          ]
        }
      ]
    },
    {
      "cell_type": "code",
      "source": [
        "from math import sqrt\n",
        "q=sqrt(2)\n",
        "print(q)"
      ],
      "metadata": {
        "colab": {
          "base_uri": "https://localhost:8080/"
        },
        "id": "Xkkj_J-7nnc8",
        "outputId": "79bfa197-78ea-4ffc-fb85-3aa020c6b081"
      },
      "execution_count": null,
      "outputs": [
        {
          "output_type": "stream",
          "name": "stdout",
          "text": [
            "1.4142135623730951\n"
          ]
        }
      ]
    },
    {
      "cell_type": "code",
      "source": [
        "#if else elif match\n",
        "from math import sqrt\n",
        "q= -0.1\n",
        "if q>0 and q !=0: #and or not() logic operators\n",
        "  print(\"q es mayor que 1\")\n",
        "  print(\"OK\")\n",
        "else:\n",
        "    print(\"no es mayor que 1 q\")"
      ],
      "metadata": {
        "colab": {
          "base_uri": "https://localhost:8080/"
        },
        "id": "AmPcgcPNoIRU",
        "outputId": "23c6b913-f80f-4878-b960-226bc607fd18"
      },
      "execution_count": null,
      "outputs": [
        {
          "output_type": "stream",
          "name": "stdout",
          "text": [
            "no es mayor que 1 q\n"
          ]
        }
      ]
    },
    {
      "cell_type": "code",
      "source": [
        "#if else elif match\n",
        "from math import sqrt\n",
        "q= -0.1\n",
        "w=1\n",
        "if q>0 and q !=0: #and or not() logic operators\n",
        "  print(\"q es mayor que 1\")\n",
        "elif w==1:\n",
        "  print(\"Si funciona\")\n",
        "else:\n",
        "    print(\"no es mayor que 1 q\")"
      ],
      "metadata": {
        "colab": {
          "base_uri": "https://localhost:8080/"
        },
        "id": "QuFmvBoAqbws",
        "outputId": "ff2cae9b-05cb-43d2-d49f-f5c1cf9d0e8b"
      },
      "execution_count": null,
      "outputs": [
        {
          "output_type": "stream",
          "name": "stdout",
          "text": [
            "Si funciona\n"
          ]
        }
      ]
    },
    {
      "cell_type": "code",
      "source": [
        "# match\n",
        "error = input (\"Introduzca un código de error: \")\n",
        "match error:\n",
        "  case \"200\":\n",
        "    print(\"Todo ok.\")\n",
        "  case \"301\":\n",
        "    print(\"Movimiento permanente de la página.\")\n",
        "  case \"401\":\n",
        "    print(\"Tu no mete cabra\")\n",
        "  case _:\n",
        "    print(\"Error no disponible.\")\n"
      ],
      "metadata": {
        "colab": {
          "base_uri": "https://localhost:8080/"
        },
        "id": "3vnuOiFfrE-M",
        "outputId": "b65d6136-eb74-4b09-fbbf-c3150cfe42f7"
      },
      "execution_count": null,
      "outputs": [
        {
          "output_type": "stream",
          "name": "stdout",
          "text": [
            "Introduzca un código de error: 401\n",
            "Tu no mete cabra\n"
          ]
        }
      ]
    },
    {
      "cell_type": "code",
      "source": [
        "# while\n",
        "ac= 1\n",
        "while ac<5:\n",
        "  print(\"Hola\", ac)\n",
        "  ac+= 1 #ac++"
      ],
      "metadata": {
        "colab": {
          "base_uri": "https://localhost:8080/"
        },
        "id": "Uuq13lrQsEdl",
        "outputId": "eea8dc8b-2cba-439b-8276-4695474844a7"
      },
      "execution_count": null,
      "outputs": [
        {
          "output_type": "stream",
          "name": "stdout",
          "text": [
            "Hola 1\n",
            "Hola 2\n",
            "Hola 3\n",
            "Hola 4\n"
          ]
        }
      ]
    },
    {
      "cell_type": "code",
      "source": [
        "# for\n",
        "for i in range(5):\n",
        "  print(\"Hola\")"
      ],
      "metadata": {
        "colab": {
          "base_uri": "https://localhost:8080/"
        },
        "id": "-6AAWnWptC3V",
        "outputId": "5aa61f32-29c0-4a4b-bfe4-22bbb7f60792"
      },
      "execution_count": null,
      "outputs": [
        {
          "output_type": "stream",
          "name": "stdout",
          "text": [
            "Hola\n",
            "Hola\n",
            "Hola\n",
            "Hola\n",
            "Hola\n"
          ]
        }
      ]
    },
    {
      "cell_type": "code",
      "source": [
        "# Listas\n",
        "p= [] # Lista vacía\n",
        "for i in range(5):\n",
        "  q= input(\"Escribe algo\")\n",
        "  p.append(q)\n",
        "print(p)"
      ],
      "metadata": {
        "colab": {
          "base_uri": "https://localhost:8080/"
        },
        "id": "Pec8kBJjuRfN",
        "outputId": "74fafb1d-1c53-495b-b7b4-667885ee6b38"
      },
      "execution_count": null,
      "outputs": [
        {
          "output_type": "stream",
          "name": "stdout",
          "text": [
            "Escribe algo CR7 el mas goat\n",
            "Escribe algo Messi el mejor\n",
            "Escribe algoRapido y furioso\n",
            "Escribe algoTu no mete cabra\n",
            "Escribe algoMi mama es la mejor\n",
            "[' CR7 el mas goat', ' Messi el mejor', 'Rapido y furioso', 'Tu no mete cabra', 'Mi mama es la mejor']\n"
          ]
        }
      ]
    },
    {
      "cell_type": "code",
      "source": [
        "# Listas\n",
        "li= [\"Omar Alejandro\", 0, 3.1416, 2.71, True, 0] #Lista\n",
        "for valor in range(5):\n",
        "  print(valor)"
      ],
      "metadata": {
        "colab": {
          "base_uri": "https://localhost:8080/"
        },
        "id": "EZTbaYyvzV2P",
        "outputId": "cded73b5-61a0-4bd3-b3c4-1219c1a54474"
      },
      "execution_count": null,
      "outputs": [
        {
          "output_type": "stream",
          "name": "stdout",
          "text": [
            "0\n",
            "1\n",
            "2\n",
            "3\n",
            "4\n"
          ]
        }
      ]
    },
    {
      "cell_type": "markdown",
      "source": [
        "Diseñar y codificar en python 3.x un algoritmo para detectar si un valor es cero dentro de una lista y contar cuantas ocurrencias hay en esa lista del valor 0."
      ],
      "metadata": {
        "id": "zqzj93NSz9TY"
      }
    },
    {
      "cell_type": "code",
      "source": [
        "li= [\"Omar Alejandro\", 0, 3.1416, 2.71, True, 0] #Lista\n",
        "ac= 0\n",
        "for valor in li:\n",
        "  print(valor)\n",
        "  if valor == 0:\n",
        "    ac+= 1\n",
        "print(\"Los ceros encontrados son \", ac)"
      ],
      "metadata": {
        "colab": {
          "base_uri": "https://localhost:8080/"
        },
        "id": "RlOhtpJX2cdf",
        "outputId": "0f451138-f101-4ec8-f831-76c65ecf0661"
      },
      "execution_count": null,
      "outputs": [
        {
          "output_type": "stream",
          "name": "stdout",
          "text": [
            "Omar Alejandro\n",
            "0\n",
            "3.1416\n",
            "2.71\n",
            "True\n",
            "0\n",
            "Los ceros encontrados son  2\n"
          ]
        }
      ]
    },
    {
      "cell_type": "code",
      "source": [
        "li= [0,2,3,4,5,0,5,2,0,1,3,5,0,8,9,1,0]\n",
        "if 0 in li:\n",
        "  print(li)\n",
        "  print(\"Si hay más de un cero\")\n",
        "  print(\"Hay\", li.count(0), \"ceros\")\n",
        "else:\n",
        "  print(\"No hay ceros\")\n"
      ],
      "metadata": {
        "colab": {
          "base_uri": "https://localhost:8080/"
        },
        "id": "JLbTIg210NnH",
        "outputId": "4ba12c41-af08-47ca-94c5-ac68bdcf2e44"
      },
      "execution_count": null,
      "outputs": [
        {
          "output_type": "stream",
          "name": "stdout",
          "text": [
            "[0, 2, 3, 4, 5, 0, 5, 2, 0, 1, 3, 5, 0, 8, 9, 1, 0]\n",
            "Si hay más de un cero\n",
            "Hay 5 ceros\n"
          ]
        }
      ]
    },
    {
      "cell_type": "markdown",
      "source": [
        "Diseñar y codificar en python 3.x un algoritmo para detectar si un valor es cero dentro de una lista y detener la iteación sobre esa lista (Pista Comando Break)"
      ],
      "metadata": {
        "id": "vQ90FQ6w1k-n"
      }
    },
    {
      "cell_type": "code",
      "source": [
        "li= [\"Omar Alejandro\", 3.1416, 2.71, True, 0] #Lista\n",
        "for valor in li:\n",
        "  if valor == 0:\n",
        "    print(\"Se encontró un cero y se rompera este ciclo for.\\n\\nAUTO DESTRUCCIÓN DEL ARDUINO !!! \")\n",
        "    break\n",
        "  else:\n",
        "    print(\"Valor de la lista\", valor )\n",
        "print(\"Los ceros encontrados son\", ac)\n",
        "\n",
        "\n"
      ],
      "metadata": {
        "colab": {
          "base_uri": "https://localhost:8080/"
        },
        "id": "lnDYPySA15Jx",
        "outputId": "73f8037c-0c09-4dc4-d3d0-e66264bea9dd"
      },
      "execution_count": null,
      "outputs": [
        {
          "output_type": "stream",
          "name": "stdout",
          "text": [
            "Valor de la lista Omar Alejandro\n",
            "Valor de la lista 3.1416\n",
            "Valor de la lista 2.71\n",
            "Valor de la lista True\n",
            "Se encontró un cero y se rompera este ciclo for.\n",
            "\n",
            "AUTO DESTRUCCIÓN DEL ARDUINO !!! \n",
            "Los ceros encontrados son 2\n"
          ]
        }
      ]
    },
    {
      "cell_type": "code",
      "source": [
        "#index\n",
        "li= [\"Omar Alejandro\", 3.1416, 2.71, True, 0]\n",
        "print(li.index(0))"
      ],
      "metadata": {
        "colab": {
          "base_uri": "https://localhost:8080/"
        },
        "id": "R4K_1p1b5aoh",
        "outputId": "b62e259e-c165-4983-e77e-0614f3a06297"
      },
      "execution_count": null,
      "outputs": [
        {
          "output_type": "stream",
          "name": "stdout",
          "text": [
            "4\n"
          ]
        }
      ]
    },
    {
      "cell_type": "code",
      "source": [
        "#insert\n",
        "li= [\"Omar Alejandro\", 3.1416, 2.71, True, 0]\n",
        "li.insert(5, \"@\")\n",
        "print(li)\n"
      ],
      "metadata": {
        "colab": {
          "base_uri": "https://localhost:8080/"
        },
        "id": "-9vdbNkD6Lv5",
        "outputId": "468c736a-8a38-44b3-f57f-a10cdf665c9b"
      },
      "execution_count": null,
      "outputs": [
        {
          "output_type": "stream",
          "name": "stdout",
          "text": [
            "['Omar Alejandro', 3.1416, 2.71, True, 0, '@']\n"
          ]
        }
      ]
    },
    {
      "cell_type": "code",
      "source": [
        "#sor\n",
        "li= [ 3.1416, 2.71, 0]\n",
        "li.sort()\n",
        "print(li)"
      ],
      "metadata": {
        "colab": {
          "base_uri": "https://localhost:8080/"
        },
        "id": "R9iK1zLR6iDZ",
        "outputId": "4b203ba6-0edf-4669-b072-932dcf69af60"
      },
      "execution_count": null,
      "outputs": [
        {
          "output_type": "stream",
          "name": "stdout",
          "text": [
            "[0, 2.71, 3.1416]\n"
          ]
        }
      ]
    },
    {
      "cell_type": "code",
      "source": [
        "#pop\n",
        "li= [\"Omar Alejandro\", 3.1416, 2.71, True, 0]\n",
        "li.pop(2)\n",
        "print(li)"
      ],
      "metadata": {
        "colab": {
          "base_uri": "https://localhost:8080/"
        },
        "id": "6XbxZhLT7I3g",
        "outputId": "13f517dd-30d3-4ac8-d5ee-0d92879e5aa8"
      },
      "execution_count": null,
      "outputs": [
        {
          "output_type": "stream",
          "name": "stdout",
          "text": [
            "['Omar Alejandro', 3.1416, True, 0]\n"
          ]
        }
      ]
    },
    {
      "cell_type": "code",
      "source": [
        "#append\n",
        "li= [\"Omar Alejandro\", 3.1416, 2.71, True, 0]\n",
        "li.append(\"Dragón\")\n",
        "print(li)"
      ],
      "metadata": {
        "colab": {
          "base_uri": "https://localhost:8080/"
        },
        "id": "bDrlHFpk8MBJ",
        "outputId": "26ac5548-4638-48aa-f585-fe1a2332a1d7"
      },
      "execution_count": null,
      "outputs": [
        {
          "output_type": "stream",
          "name": "stdout",
          "text": [
            "['Omar Alejandro', 3.1416, 2.71, True, 0, 'Dragón']\n"
          ]
        }
      ]
    },
    {
      "cell_type": "code",
      "source": [
        "#clear\n",
        "li= [\"Omar Alejandro\", 3.1416, 2.71, True, 0]\n",
        "li.clear()\n",
        "print(li)"
      ],
      "metadata": {
        "colab": {
          "base_uri": "https://localhost:8080/"
        },
        "id": "ORzDoM6w8UDR",
        "outputId": "7c049f89-76bd-490f-a314-9cace4d56e0a"
      },
      "execution_count": null,
      "outputs": [
        {
          "output_type": "stream",
          "name": "stdout",
          "text": [
            "[]\n"
          ]
        }
      ]
    },
    {
      "cell_type": "code",
      "source": [
        "#copy\n",
        "li= [\"Omar Alejandro\", 3.1416, 2.71, True, 0]\n",
        "li2= li.copy()\n",
        "print(li2)"
      ],
      "metadata": {
        "colab": {
          "base_uri": "https://localhost:8080/"
        },
        "id": "lu3ma2wi8ZKx",
        "outputId": "32b978e7-f35b-458f-a073-8a66292ebeab"
      },
      "execution_count": null,
      "outputs": [
        {
          "output_type": "stream",
          "name": "stdout",
          "text": [
            "['Omar Alejandro', 3.1416, 2.71, True, 0]\n"
          ]
        }
      ]
    },
    {
      "cell_type": "code",
      "source": [
        "#count\n",
        "li= [\"Omar Alejandro\", 3.1416, 2.71, True, 0]\n",
        "print(li.count(True))"
      ],
      "metadata": {
        "colab": {
          "base_uri": "https://localhost:8080/"
        },
        "id": "TY_oLjKf8kUJ",
        "outputId": "dc2d95e6-d264-4234-c8d4-58569fdd1b14"
      },
      "execution_count": null,
      "outputs": [
        {
          "output_type": "stream",
          "name": "stdout",
          "text": [
            "1\n"
          ]
        }
      ]
    },
    {
      "cell_type": "code",
      "source": [
        "# extend\n",
        "li= [\"Omar Alejandro\", 3.1416, 2.71, True, 0]\n",
        "li2= [1,2,3,4,5]\n",
        "li.extend(li2)\n",
        "print(li)"
      ],
      "metadata": {
        "colab": {
          "base_uri": "https://localhost:8080/"
        },
        "id": "q5Qag5LS8xei",
        "outputId": "4822ccda-f397-48bb-a0d7-d9266d753533"
      },
      "execution_count": null,
      "outputs": [
        {
          "output_type": "stream",
          "name": "stdout",
          "text": [
            "['Omar Alejandro', 3.1416, 2.71, True, 0, 1, 2, 3, 4, 5]\n"
          ]
        }
      ]
    },
    {
      "cell_type": "code",
      "source": [
        "#remove\n",
        "li= [\"Omar Alejandro\", 3.1416, 2.71, True, 0]\n",
        "li.remove(3.1416)\n",
        "print(li)"
      ],
      "metadata": {
        "colab": {
          "base_uri": "https://localhost:8080/"
        },
        "id": "tD17-J1r8-q5",
        "outputId": "d002a301-72ef-4fcf-b12f-038101cdaeab"
      },
      "execution_count": null,
      "outputs": [
        {
          "output_type": "stream",
          "name": "stdout",
          "text": [
            "['Omar Alejandro', 2.71, True, 0]\n"
          ]
        }
      ]
    },
    {
      "cell_type": "code",
      "source": [
        "#reverse\n",
        "li= [\"Omar Alejandro\", 3.1416, 2.71, True, 0]\n",
        "li.reverse()\n",
        "print(li)"
      ],
      "metadata": {
        "colab": {
          "base_uri": "https://localhost:8080/"
        },
        "id": "Uq5hTvtV9LQK",
        "outputId": "bb8586f5-540e-4c04-d29e-0742dbed1d09"
      },
      "execution_count": null,
      "outputs": [
        {
          "output_type": "stream",
          "name": "stdout",
          "text": [
            "[0, True, 2.71, 3.1416, 'Omar Alejandro']\n"
          ]
        }
      ]
    },
    {
      "cell_type": "code",
      "source": [
        "#funcion\n",
        "def funcion():\n",
        "  for i in range(5):\n",
        "    print(\"Hola a todos.......\")\n",
        "    return 0\n",
        "a= funcion()\n",
        "print(a)\n"
      ],
      "metadata": {
        "colab": {
          "base_uri": "https://localhost:8080/"
        },
        "id": "XQOwiT5Z7kXp",
        "outputId": "d0724907-d0a7-430e-8309-5d489b7bdc31"
      },
      "execution_count": null,
      "outputs": [
        {
          "output_type": "stream",
          "name": "stdout",
          "text": [
            "Hola a todos.......\n",
            "0\n"
          ]
        }
      ]
    },
    {
      "cell_type": "code",
      "source": [
        "def arroba(s):\n",
        "  for k in s:\n",
        "    if k==\"@\":\n",
        "      return True\n",
        "      break\n",
        "  return False\n",
        "#main\n",
        "mail= \"alexk4303@gmail.com\"\n",
        "print(\"El correo tiene arroba: \", arroba(mail))"
      ],
      "metadata": {
        "colab": {
          "base_uri": "https://localhost:8080/"
        },
        "id": "eE_Dmtg19PuZ",
        "outputId": "adddfd54-57fa-466e-b9df-9152530bbfb0"
      },
      "execution_count": null,
      "outputs": [
        {
          "output_type": "stream",
          "name": "stdout",
          "text": [
            "El correo tiene arroba:  True\n"
          ]
        }
      ]
    }
  ]
}
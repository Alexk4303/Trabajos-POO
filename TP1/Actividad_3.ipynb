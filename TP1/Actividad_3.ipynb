{
  "nbformat": 4,
  "nbformat_minor": 0,
  "metadata": {
    "colab": {
      "provenance": [],
      "authorship_tag": "ABX9TyN8Ov4k0dfQzmjUQlV32Gn2",
      "include_colab_link": true
    },
    "kernelspec": {
      "name": "python3",
      "display_name": "Python 3"
    },
    "language_info": {
      "name": "python"
    }
  },
  "cells": [
    {
      "cell_type": "markdown",
      "metadata": {
        "id": "view-in-github",
        "colab_type": "text"
      },
      "source": [
        "<a href=\"https://colab.research.google.com/github/Alexk4303/Trabajos-POO/blob/main/TP1/Actividad_3.ipynb\" target=\"_parent\"><img src=\"https://colab.research.google.com/assets/colab-badge.svg\" alt=\"Open In Colab\"/></a>"
      ]
    },
    {
      "cell_type": "code",
      "execution_count": null,
      "metadata": {
        "colab": {
          "base_uri": "https://localhost:8080/"
        },
        "id": "h9sWLCWdiECV",
        "outputId": "89f06468-f6e1-4b2d-cd85-c6ce2d726563"
      },
      "outputs": [
        {
          "output_type": "stream",
          "name": "stdout",
          "text": [
            "La variedad es:  Chihuahua\n",
            "La variedad es:  45.34\n",
            "El costo de esta manzana es  11.607040000000001\n"
          ]
        }
      ],
      "source": [
        "class Apple:\n",
        "  def  __init__(self, variedad, peso, precio_xkilo, cadu, pcomp, brand):\n",
        "    self.variedad= variedad\n",
        "    self.peso=peso\n",
        "    self.precio_xkilo= precio_xkilo\n",
        "    self.caducidad=cadu\n",
        "    self.precio_comp=pcomp\n",
        "    self.marca=brand\n",
        "  def costo(self):\n",
        "    return self.peso*self.precio_xkilo\n",
        "\n",
        "  def disp_info(self):\n",
        "    print(\"La variedad es: \", self.variedad)\n",
        "    print(\"La variedad es: \", self.precio_xkilo)\n",
        "    print(\"El costo de esta manzana es \", self.costo())\n",
        "\n",
        "#MAIN\n",
        "\n",
        "m01= Apple(variedad=\"Chihuahua\", peso= 0.256, precio_xkilo= 45.34, cadu=\"31/dic/2024\", pcomp= 46.23, brand= \"FoxApples\")\n",
        "\n",
        "m01.disp_info()"
      ]
    },
    {
      "cell_type": "markdown",
      "source": [
        "Atributos Cafe\n",
        "Marca, tipo, fecha de tostado, origen, el precio, molido o grano, nivel de acidez, tamaño, intensidad, organico, descafeinado,"
      ],
      "metadata": {
        "id": "STix03pMkuMI"
      }
    },
    {
      "cell_type": "code",
      "source": [
        "#Me toco programar la clase Cafe.\n",
        "class Cafe:\n",
        "  def __init__(self, marca, tipo, fecha_tostado, origen, precio, acidez, tamano, ):\n",
        "    self.marca=marca\n",
        "    self.tipo=tipo\n",
        "    self.fecha_tostado=fecha_tostado\n",
        "    self.origen=origen\n",
        "    self.precio=precio\n",
        "    self.acidez=acidez\n",
        "    self.tamano=tamano\n",
        "  def costo(self):\n",
        "    return self.precio*self.tamano\n",
        "  def disp_info(self):\n",
        "    print(\"La marca es: \", self.marca)\n",
        "    print(\"El tipo es: \", self.tipo)\n",
        "    print(\"La fecha de tostado es: \", self.fecha_tostado)\n",
        "    print(\"El origen es: \", self.origen)\n",
        "    print(\"El precio es: \", self.precio)\n",
        "    print(\"La acidez es: \", self.acidez)\n",
        "    print(\"El tamaño es: \", self.tamano)\n",
        "\n",
        "#Main\n",
        "m01= Cafe(marca=\"Flor de Cordoba\", tipo= \"Molido\", fecha_tostado= \"25/09/2024\", origen= \"Colombia\", precio= 35.99, acidez=\"Bajo\", tamano= \"400 g\")\n",
        "m01.disp_info()\n"
      ],
      "metadata": {
        "colab": {
          "base_uri": "https://localhost:8080/"
        },
        "id": "Ifhxcaf6pUtB",
        "outputId": "c865fd77-d7ff-4572-fb19-362be089494b"
      },
      "execution_count": null,
      "outputs": [
        {
          "output_type": "stream",
          "name": "stdout",
          "text": [
            "La marca es:  Flor de Cordoba\n",
            "El tipo es:  Molido\n",
            "La fecha de tostado es:  25/09/2024\n",
            "El origen es:  Colombia\n",
            "El precio es:  35.99\n",
            "La acidez es:  Bajo\n",
            "El tamaño es:  400 g\n"
          ]
        }
      ]
    },
    {
      "cell_type": "markdown",
      "source": [
        "Como será la clase diseñada en C++."
      ],
      "metadata": {
        "id": "7Zc-nTWgzkXh"
      }
    },
    {
      "cell_type": "code",
      "source": [
        "#include <iostream>\n",
        "#include <string>\n",
        "\n",
        "using namespace std;\n",
        "\n",
        "class Cafe {\n",
        "private:\n",
        "    string marca;\n",
        "    string tipo;\n",
        "    string fecha_tostado;\n",
        "    string origen;\n",
        "    double precio;\n",
        "    string acidez;\n",
        "    string tamano;\n",
        "\n",
        "public:\n",
        "\n",
        "    Cafe(string m, string t, string ft, string o, double p, string a, string tam) {\n",
        "        marca = m;\n",
        "        tipo = t;\n",
        "        fecha_tostado = ft;\n",
        "        origen = o;\n",
        "        precio = p;\n",
        "        acidez = a;\n",
        "        tamano = tam;\n",
        "    }\n",
        "\n",
        "    double costo() {\n",
        "\n",
        "        return precio; // Como placeholder, ya que \"tamano\" es un string en tu código original.\n",
        "    }\n",
        "\n",
        "\n",
        "    void disp_info() {\n",
        "        cout << \"La marca es: \" << marca << endl;\n",
        "        cout << \"El tipo es: \" << tipo << endl;\n",
        "        cout << \"La fecha de tostado es: \" << fecha_tostado << endl;\n",
        "        cout << \"El origen es: \" << origen << endl;\n",
        "        cout << \"El precio es: \" << precio << endl;\n",
        "        cout << \"La acidez es: \" << acidez << endl;\n",
        "        cout << \"El tamaño es: \" << tamano << endl;\n",
        "    }\n",
        "};\n",
        "\n",
        "int main() {\n",
        "\n",
        "    Cafe m01(\"Flor de Cordoba\", \"Molido\", \"25/09/2024\", \"Colombia\", 35.99, \"Bajo\", \"400 g\");\n",
        "\n",
        "    m01.disp_info();\n",
        "\n",
        "    return 0;"
      ],
      "metadata": {
        "id": "qUSuPSy_0D69"
      },
      "execution_count": null,
      "outputs": []
    }
  ]
}
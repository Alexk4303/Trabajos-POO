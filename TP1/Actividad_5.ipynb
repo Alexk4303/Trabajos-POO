{
  "nbformat": 4,
  "nbformat_minor": 0,
  "metadata": {
    "colab": {
      "provenance": [],
      "authorship_tag": "ABX9TyMErNqAHliyNWjykdQk5MZA",
      "include_colab_link": true
    },
    "kernelspec": {
      "name": "python3",
      "display_name": "Python 3"
    },
    "language_info": {
      "name": "python"
    }
  },
  "cells": [
    {
      "cell_type": "markdown",
      "metadata": {
        "id": "view-in-github",
        "colab_type": "text"
      },
      "source": [
        "<a href=\"https://colab.research.google.com/github/Alexk4303/Trabajos-POO/blob/main/TP1/Actividad_5.ipynb\" target=\"_parent\"><img src=\"https://colab.research.google.com/assets/colab-badge.svg\" alt=\"Open In Colab\"/></a>"
      ]
    },
    {
      "cell_type": "code",
      "execution_count": null,
      "metadata": {
        "colab": {
          "base_uri": "https://localhost:8080/"
        },
        "id": "kpJsLzbYFNUS",
        "outputId": "136be243-8405-402c-aaf6-11a85df76ce3"
      },
      "outputs": [
        {
          "output_type": "stream",
          "name": "stdout",
          "text": [
            "Introduce tu nombre completo: h\n",
            "Nombre no válido. Debe contener solo letras y espacios con al menos 3 caracteres.\n",
            "Introduce tu nombre completo: Omar Alejandro \n",
            "Introduce tu email: alex\n",
            "Email no válido. Debe ser un formato correcto, como usuario@dominio.com\n",
            "Introduce tu email: alexk4303@gmail.com\n",
            "Introduce tu contraseña (minimo 8 caracteres, al menos una letra y un número):am\n",
            "Contraseña no válida. Debe tener al menos 8 caracteres, incluyendo una letra y un número.\n",
            "Introduce tu contraseña (minimo 8 caracteres, al menos una letra y un número):AMcr1970\n",
            "Introduce tu edad: 20\n",
            "Datos del usuario:\n",
            "Nombre: Omar Alejandro \n",
            "Email: alexk4303@gmail.com \n",
            "Password: AMcr1970 \n",
            "Edad: 20\n"
          ]
        }
      ],
      "source": [
        "import re\n",
        "\n",
        "class Usuario:\n",
        "  def __init__(self ):\n",
        "    self.nombre_completo = None\n",
        "    self.email = None\n",
        "    self.password = None\n",
        "    self.edad = None\n",
        "  def leer_nombre(self):\n",
        "    while True:\n",
        "      nombre_completo = input(\"Introduce tu nombre completo: \")\n",
        "      if re.match(r'^[a-zA-ZÀ-ÿ\\s]{3,}$', nombre_completo):\n",
        "        self.nombre_completo = nombre_completo\n",
        "        break\n",
        "      else:\n",
        "        print(\"Nombre no válido. Debe contener solo letras y espacios con al menos 3 caracteres.\")\n",
        "  def leer_email(self):\n",
        "    while True:\n",
        "      email= input(\"Introduce tu email: \")\n",
        "      if re.match(r'^[a-zA-Z0-9_.+-]+@[a-zA-Z0-9-]+\\.[a-zA-Z0-9-.]+$', email):\n",
        "        self.email= email\n",
        "        break\n",
        "      else:\n",
        "        print(\"Email no válido. Debe ser un formato correcto, como usuario@dominio.com\")\n",
        "  def leer_password(self):\n",
        "    while True:\n",
        "      password = input(\"Introduce tu contraseña (minimo 8 caracteres, al menos una letra y un número):\")\n",
        "      if re.match(r'^(?=.*[A-Za-z])(?=.*\\d)[A-Za-z\\d]{8,}$', password):\n",
        "        self.password = password\n",
        "        break\n",
        "      else:\n",
        "        print(\"Contraseña no válida. Debe tener al menos 8 caracteres, incluyendo una letra y un número.\")\n",
        "  def leer_edad(self):\n",
        "    while True:\n",
        "      try:\n",
        "        edad= int(input(\"Introduce tu edad: \"))\n",
        "        if edad > 0:\n",
        "          self.edad = edad\n",
        "          break\n",
        "        else:\n",
        "          print(\"La edad debe ser un número positivo.\")\n",
        "      except ValueError:\n",
        "        print(\"Por favor intruduce un número válido para la edad.\")\n",
        "\n",
        "usuario= Usuario()\n",
        "usuario.leer_nombre()\n",
        "usuario.leer_email()\n",
        "usuario.leer_password()\n",
        "usuario.leer_edad()\n",
        "\n",
        "print(f\"Datos del usuario:\\nNombre: {usuario.nombre_completo}\\nEmail: {usuario.email} \\nPassword: {usuario.password} \\nEdad: {usuario.edad}\")\n",
        "\n",
        "\n",
        "\n",
        "\n"
      ]
    }
  ]
}
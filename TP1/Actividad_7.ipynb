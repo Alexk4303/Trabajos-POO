{
  "nbformat": 4,
  "nbformat_minor": 0,
  "metadata": {
    "colab": {
      "provenance": [],
      "authorship_tag": "ABX9TyN/ksfTsuS7gb55dg9VxPNN",
      "include_colab_link": true
    },
    "kernelspec": {
      "name": "python3",
      "display_name": "Python 3"
    },
    "language_info": {
      "name": "python"
    }
  },
  "cells": [
    {
      "cell_type": "markdown",
      "metadata": {
        "id": "view-in-github",
        "colab_type": "text"
      },
      "source": [
        "<a href=\"https://colab.research.google.com/github/Alexk4303/Trabajos-POO/blob/main/TP1/Actividad_7.ipynb\" target=\"_parent\"><img src=\"https://colab.research.google.com/assets/colab-badge.svg\" alt=\"Open In Colab\"/></a>"
      ]
    },
    {
      "cell_type": "code",
      "source": [
        "!pip install cryptography"
      ],
      "metadata": {
        "colab": {
          "base_uri": "https://localhost:8080/"
        },
        "id": "EXK1EKUE_3kf",
        "outputId": "2c0efe7f-b5e8-41bc-b01d-7d8b4f8cb334"
      },
      "execution_count": 20,
      "outputs": [
        {
          "output_type": "stream",
          "name": "stdout",
          "text": [
            "Requirement already satisfied: cryptography in /usr/local/lib/python3.10/dist-packages (43.0.1)\n",
            "Requirement already satisfied: cffi>=1.12 in /usr/local/lib/python3.10/dist-packages (from cryptography) (1.17.1)\n",
            "Requirement already satisfied: pycparser in /usr/local/lib/python3.10/dist-packages (from cffi>=1.12->cryptography) (2.22)\n"
          ]
        }
      ]
    },
    {
      "cell_type": "code",
      "execution_count": 26,
      "metadata": {
        "id": "fGZ5o4ZN1-cz"
      },
      "outputs": [],
      "source": [
        "from cryptography.fernet import Fernet\n",
        "\n",
        "class Auto:\n",
        "\n",
        "    clave = Fernet.generate_key()\n",
        "    cifrador = Fernet(clave)\n",
        "\n",
        "    def __init__(self, marca, modelo, color, velocidad_maxima, precio):\n",
        "        self._marca = self._encriptar(marca)\n",
        "        self._modelo = self._encriptar(modelo)\n",
        "        self.color = color\n",
        "        self.velocidad_maxima = velocidad_maxima\n",
        "        self.precio = precio\n",
        "\n",
        "    def _encriptar(self, texto):\n",
        "        return self.cifrador.encrypt(texto.encode('utf-8'))\n",
        "\n",
        "    def _desencriptar(self, texto_cifrado):\n",
        "        return self.cifrador.decrypt(texto_cifrado).decode('utf-8')\n",
        "\n",
        "    @property\n",
        "    def marca(self):\n",
        "        return self._desencriptar(self._marca)\n",
        "\n",
        "    @marca.setter\n",
        "    def marca(self, valor):\n",
        "        self._marca = self._encriptar(valor)\n",
        "\n",
        "    @property\n",
        "    def modelo(self):\n",
        "        return self._desencriptar(self._modelo)\n",
        "\n",
        "    @modelo.setter\n",
        "    def modelo(self, valor):\n",
        "        self._modelo = self._encriptar(valor)\n",
        "\n",
        "    def __str__(self):\n",
        "        return f\"Auto {self.marca} {self.modelo} ({self.color})\"\n",
        "\n",
        "    def __eq__(self, otro_auto):\n",
        "        return self.precio == otro_auto.precio\n",
        "\n",
        "    def __lt__(self, otro_auto):\n",
        "        return self.velocidad_maxima < otro_auto.velocidad_maxima\n",
        "\n",
        "    def __gt__(self, otro_auto):\n",
        "        return self.velocidad_maxima > otro_auto.velocidad_maxima\n",
        "\n",
        "    def acelerar(self, incremento):\n",
        "        print(f\"{self} acelerando.....\")\n",
        "        self.velocidad_maxima += incremento\n",
        "\n",
        "    def frenar(self, decremento):\n",
        "        print(f\"{self} frenando....\")\n",
        "        self.velocidad_maxima -= decremento\n",
        "\n",
        "    def pintar(self, nuevo_color):\n",
        "        print(f\"{self} pintado de {nuevo_color}\")\n",
        "        self.color = nuevo_color\n",
        "\n",
        "    def aumentar_precio(self, porcentaje):\n",
        "        print(f\"Aumentando el precio de {self} en un {porcentaje} %\")\n",
        "        self.precio *= (1 + porcentaje / 100)\n",
        "\n",
        "    def reducir_precio(self, porcentaje):\n",
        "        print(f\"Reduciendo el precio de {self} en un {porcentaje} %\")\n",
        "        self.precio *= (1 - porcentaje / 100)\n",
        "\n",
        "\n"
      ]
    }
  ]
}
{
  "cells": [
    {
      "cell_type": "markdown",
      "metadata": {
        "id": "view-in-github",
        "colab_type": "text"
      },
      "source": [
        "<a href=\"https://colab.research.google.com/github/Alexk4303/Trabajos-POO/blob/main/Actividad_4.ipynb\" target=\"_parent\"><img src=\"https://colab.research.google.com/assets/colab-badge.svg\" alt=\"Open In Colab\"/></a>"
      ]
    },
    {
      "cell_type": "markdown",
      "metadata": {
        "id": "vWmc_s2ezvU0"
      },
      "source": [
        "# Run streamlit app from a Google Colab Notebook\n",
        "> Created by [Manuel Romero](https://twitter.com/mrm8488)"
      ]
    },
    {
      "cell_type": "code",
      "execution_count": null,
      "metadata": {
        "id": "RvlYkCQ9vFiy"
      },
      "outputs": [],
      "source": [
        "!pip install -q streamlit"
      ]
    },
    {
      "cell_type": "code",
      "execution_count": null,
      "metadata": {
        "id": "an2C3c_0Ooi9"
      },
      "outputs": [],
      "source": []
    },
    {
      "cell_type": "markdown",
      "metadata": {
        "id": "waCfwniZOow8"
      },
      "source": [
        "## Create a streamlit app example\n"
      ]
    },
    {
      "cell_type": "code",
      "execution_count": null,
      "metadata": {
        "colab": {
          "base_uri": "https://localhost:8080/"
        },
        "id": "meJ36PefNftd",
        "outputId": "33ad1e0e-0a43-4275-8646-2b9242fe1a70"
      },
      "outputs": [
        {
          "output_type": "stream",
          "name": "stdout",
          "text": [
            "Overwriting app.py\n"
          ]
        }
      ],
      "source": [
        "%%writefile app.py\n",
        "import streamlit as st\n",
        "import re\n",
        "\n",
        "class User:\n",
        "    def __init__(self, name, age, email, phone, shift):\n",
        "        self.shift = shift\n",
        "        self.name = self.encrypt(name)\n",
        "        self.age = self.encrypt(str(age))\n",
        "        self.email = self.encrypt(email)\n",
        "        self.phone = self.encrypt(phone)\n",
        "\n",
        "    def encrypt(self, text):\n",
        "        encrypted = ''\n",
        "        for char in text:\n",
        "            if char.isalpha():\n",
        "                shift = self.shift\n",
        "                if char.islower():\n",
        "                    encrypted += chr((ord(char) - 97 + shift) % 26 + 97)\n",
        "                else:\n",
        "                    encrypted += chr((ord(char) - 65 + shift) % 26 + 65)\n",
        "            elif char.isdigit():\n",
        "                encrypted += chr((ord(char) - 48 + self.shift) % 10 + 48)\n",
        "            else:\n",
        "                encrypted += char\n",
        "        return encrypted\n",
        "\n",
        "    def decrypt(self, text):\n",
        "        decrypted = ''\n",
        "        for char in text:\n",
        "            if char.isalpha():\n",
        "                shift = self.shift\n",
        "                if char.islower():\n",
        "                    decrypted += chr((ord(char) - 97 - shift) % 26 + 97)\n",
        "                else:\n",
        "                    decrypted += chr((ord(char) - 65 - shift) % 26 + 65)\n",
        "            elif char.isdigit():\n",
        "                decrypted += chr((ord(char) - 48 - self.shift) % 10 + 48)\n",
        "            else:\n",
        "                decrypted += char\n",
        "        return decrypted\n",
        "\n",
        "    def display_decrypted(self):\n",
        "        return f\"Name: {self.decrypt(self.name)}, Age: {self.decrypt(self.age)}, Email: {self.decrypt(self.email)}, Phone: {self.decrypt(self.phone)}\"\n",
        "\n",
        "\n",
        "# CRUD Operations\n",
        "class CRUDSystem:\n",
        "    def __init__(self, shift):\n",
        "        if 'users' not in st.session_state:\n",
        "            st.session_state.users = []  # List will persist in session_state\n",
        "        self.shift = shift\n",
        "\n",
        "    def create_user(self, name, age, email, phone):\n",
        "        user = User(name, age, email, phone, self.shift)\n",
        "        st.session_state.users.append(user)\n",
        "        st.success(f\"User {name} created successfully.\")\n",
        "\n",
        "    def read_users(self):\n",
        "        if not st.session_state.users:\n",
        "            st.info(\"No users available.\")\n",
        "        for idx, user in enumerate(st.session_state.users):\n",
        "            st.write(f\"Index: {idx}, {user.display_decrypted()}\")\n",
        "\n",
        "    def update_user(self, index, name=None, age=None, email=None, phone=None):\n",
        "        if 0 <= index < len(st.session_state.users):\n",
        "            user = st.session_state.users[index]\n",
        "            if name:\n",
        "                user.name = user.encrypt(name)\n",
        "            if age:\n",
        "                user.age = user.encrypt(str(age))\n",
        "            if email:\n",
        "                user.email = user.encrypt(email)\n",
        "            if phone:\n",
        "                user.phone = user.encrypt(phone)\n",
        "            st.success(f\"User at index {index} updated successfully.\")\n",
        "        else:\n",
        "            st.error(\"Invalid index.\")\n",
        "\n",
        "    def delete_user(self, index):\n",
        "        if 0 <= index < len(st.session_state.users):\n",
        "            deleted_user = st.session_state.users.pop(index)\n",
        "            st.success(f\"User {deleted_user.decrypt(deleted_user.name)} deleted successfully.\")\n",
        "        else:\n",
        "            st.error(\"Invalid index.\")\n",
        "\n",
        "\n",
        "# Usage Example\n",
        "crud_system = CRUDSystem(shift=3)  # Shift of 3 for the Caesar cipher\n",
        "\n",
        "st.title(\"CRUD System\")\n",
        "\n",
        "# Create User Section\n",
        "st.header(\"Crear usuario\")\n",
        "name = st.text_input(\"Nombre:\")\n",
        "age = st.number_input(\"Edad:\", min_value=0, max_value=120, step=1)\n",
        "email = st.text_input(\"Correo electrónico:\")\n",
        "phone = st.text_input(\"Teléfono:\")\n",
        "\n",
        "if st.button(\"Crear Usuario\"):\n",
        "    if name and email and phone and age > 0:\n",
        "        crud_system.create_user(name, age, email, phone)\n",
        "    else:\n",
        "        st.error(\"Por favor, completa todos los campos\")\n",
        "\n",
        "# List Users Section\n",
        "st.header(\"Lista de Usuarios\")\n",
        "crud_system.read_users()\n",
        "\n",
        "# Update User Section\n",
        "st.header(\"Actualizar Usuario\")\n",
        "user_index = st.number_input(\"Índice de Usuario a Actualizar\", min_value=0, step=1)\n",
        "new_name = st.text_input(\"Nuevo Nombre (opcional):\")\n",
        "new_age = st.number_input(\"Nueva Edad (opcional):\", min_value=0, max_value=120, step=1)\n",
        "new_email = st.text_input(\"Nuevo Correo Electrónico (opcional):\")\n",
        "new_phone = st.text_input(\"Nuevo Teléfono (opcional):\")\n",
        "\n",
        "if st.button(\"Actualizar Usuario\"):\n",
        "    crud_system.update_user(user_index, name=new_name or None, age=new_age or None, email=new_email or None, phone=new_phone or None)\n",
        "\n",
        "# Delete User Section\n",
        "st.header(\"Eliminar Usuario\")\n",
        "delete_index = st.number_input(\"Índice del Usuario a Eliminar.\", min_value=0, step=1)\n",
        "\n",
        "if st.button(\"Eliminar Usuario\"):\n",
        "    crud_system.delete_user(delete_index)\n",
        "\n",
        "\n",
        "\n",
        "\n",
        "\n"
      ]
    },
    {
      "cell_type": "markdown",
      "metadata": {
        "id": "xZlEJkmSOoxC"
      },
      "source": [
        "## Install localtunnel"
      ]
    },
    {
      "cell_type": "code",
      "execution_count": null,
      "metadata": {
        "colab": {
          "base_uri": "https://localhost:8080/"
        },
        "id": "ZAyqQCQVOoxC",
        "outputId": "3351b9d3-a898-4654-f2a5-92e122850b05"
      },
      "outputs": [
        {
          "output_type": "stream",
          "name": "stdout",
          "text": [
            "\u001b[K\u001b[?25h\n",
            "up to date, audited 23 packages in 425ms\n",
            "\n",
            "3 packages are looking for funding\n",
            "  run `npm fund` for details\n",
            "\n",
            "2 \u001b[33m\u001b[1mmoderate\u001b[22m\u001b[39m severity vulnerabilities\n",
            "\n",
            "To address all issues (including breaking changes), run:\n",
            "  npm audit fix --force\n",
            "\n",
            "Run `npm audit` for details.\n"
          ]
        }
      ],
      "source": [
        "!npm install localtunnel"
      ]
    },
    {
      "cell_type": "markdown",
      "metadata": {
        "id": "kccYE2lkN20y"
      },
      "source": [
        "## Run streamlit in background"
      ]
    },
    {
      "cell_type": "code",
      "execution_count": null,
      "metadata": {
        "id": "Zv912rRAN0fs"
      },
      "outputs": [],
      "source": [
        "!streamlit run /content/app.py &>/content/logs.txt &"
      ]
    },
    {
      "cell_type": "markdown",
      "metadata": {
        "id": "h_KW9juhOCuH"
      },
      "source": [
        "## Expose the port 8501\n",
        "Then just click in the `url` showed.\n",
        "\n",
        "A `log.txt`file will be created."
      ]
    },
    {
      "cell_type": "code",
      "execution_count": null,
      "metadata": {
        "colab": {
          "base_uri": "https://localhost:8080/"
        },
        "id": "XTGAizLhOIgC",
        "outputId": "260f3b14-c4de-4068-ecc9-677e92ce26b5"
      },
      "outputs": [
        {
          "metadata": {
            "tags": null
          },
          "name": "stdout",
          "output_type": "stream",
          "text": [
            "your url is: https://pretty-beds-exist.loca.lt\n"
          ]
        }
      ],
      "source": [
        "!npx localtunnel --port 8501"
      ]
    },
    {
      "cell_type": "markdown",
      "metadata": {
        "id": "GVz-H__pOoxG"
      },
      "source": [
        "[![ko-fi](https://www.ko-fi.com/img/githubbutton_sm.svg)](https://ko-fi.com/Y8Y3VYYE)"
      ]
    }
  ],
  "metadata": {
    "colab": {
      "provenance": [],
      "include_colab_link": true
    },
    "kernelspec": {
      "display_name": "Python 3",
      "name": "python3"
    }
  },
  "nbformat": 4,
  "nbformat_minor": 0
}